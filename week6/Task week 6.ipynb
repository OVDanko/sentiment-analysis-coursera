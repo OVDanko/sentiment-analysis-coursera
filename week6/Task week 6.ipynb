{
 "cells": [
  {
   "cell_type": "code",
   "execution_count": 1,
   "metadata": {},
   "outputs": [],
   "source": [
    "import codecs\n",
    "import pandas as pd\n",
    "import numpy as np\n",
    "import  random\n",
    "\n",
    "from nltk.corpus import stopwords\n",
    "from pymystem3 import Mystem # лемматизация русских слов, можно установить через pip install\n",
    "from string import punctuation\n",
    "\n",
    "import re\n",
    "import bs4\n",
    "\n",
    "from sklearn.feature_extraction.text import TfidfVectorizer, CountVectorizer\n",
    "from sklearn.pipeline import Pipeline\n",
    "from sklearn.linear_model import LogisticRegression, SGDClassifier\n",
    "from sklearn.svm import LinearSVC\n",
    "from sklearn.model_selection import cross_val_score"
   ]
  },
  {
   "cell_type": "code",
   "execution_count": 2,
   "metadata": {},
   "outputs": [],
   "source": [
    "import warnings\n",
    "warnings.filterwarnings('ignore')"
   ]
  },
  {
   "cell_type": "code",
   "execution_count": 3,
   "metadata": {
    "scrolled": true
   },
   "outputs": [],
   "source": [
    "# тестовая выборка\n",
    "test_raw=[]\n",
    "with codecs.open(\"test.csv\", \"r\", \"utf_8_sig\") as f:\n",
    "    data = f.read()\n",
    "    parser = bs4.BeautifulSoup(data, 'lxml')\n",
    "    x = parser.findAll('review')\n",
    "    test_raw = []\n",
    "    for text in x:\n",
    "        test_raw.append(text.text)"
   ]
  },
  {
   "cell_type": "code",
   "execution_count": 4,
   "metadata": {},
   "outputs": [],
   "source": [
    "mystem = Mystem() \n",
    "russian_stopwords = stopwords.words(\"russian\")"
   ]
  },
  {
   "cell_type": "code",
   "execution_count": 8,
   "metadata": {},
   "outputs": [],
   "source": [
    "# функция для предобработки сырых отзывов\n",
    "def text_filter(texts_to_filter):\n",
    "    stop_words = stopwords.words('russian')\n",
    "    filtered_texts = []\n",
    "    for text in texts_to_filter:\n",
    "        text= re.sub(r'[^\\w\\s]',' ',text) # убираем знаки пунктуации и прочие символы\n",
    "        text = re.sub(' \\d+', '', text) # убираем числа\n",
    "        text= re.sub(r\"\\s+\", ' ', text).strip() # убираем лишние пробелы \n",
    "        tokens = mystem.lemmatize(text.lower()) # лемматизация\n",
    "        tokens = [token for token in tokens if token not in stop_words and token != \" \" and token.strip() not in punctuation]\n",
    "        text = \" \".join(tokens)\n",
    "        filtered_texts.append(text)\n",
    "    return filtered_texts"
   ]
  },
  {
   "cell_type": "code",
   "execution_count": 9,
   "metadata": {},
   "outputs": [
    {
     "name": "stdout",
     "output_type": "stream",
     "text": [
      "Wall time: 2min 13s\n"
     ]
    }
   ],
   "source": [
    "%%time\n",
    "test = text_filter(test_raw)"
   ]
  },
  {
   "cell_type": "code",
   "execution_count": 7,
   "metadata": {},
   "outputs": [
    {
     "data": {
      "text/plain": [
       "'ценанадежность-неубиваемостьдолго держит батарею 4 дня стабильно как телефон, 3-4 как плеер если \\rпостоянно долбиться в уши и звонить по паре часо на дню, игры и, конечно,  смс , в месяц около 200 шт набирается.\\r Максимальное время работы 5 дней в щадящем режиме.2 simqwerty рулит -после нее набор смс на обычных сенсорниках и кнопочных -просто издивательствогромкий ,чистый звук (хорошо варьируется как в + так и в -)значение hot кнопок (верхняя панель до основной раскладки цифры/буквы) задается под себямного цветных панелек с пластиковым защитным  экраном,переставляются легко(те родной экран телефона никогда не поцарапается)кнопки не стираютсякак не странно достойные фото, нет не спорю не 25 мегапикселей, но  отснять рассписание или конспекты, зафотать пейзаж за окном автобуса получается вполне пристойносохранение файлов,отснятых фото, переброшенных песен происходит  на карту памяти  и это оч удобно, карточки кушает до 32 Гб !удобный ашевский бонус смс чат с аббанентом\\rт.е.  вы можете видеть всю ветку беседы с конкретным человеком , а не искать в куче входящих смс с нужной информацией.\\nработает чисто без галюнов,падал,шврялся,купался,используется как тел и плеер,в метро поездов не слышно уши юзаю сенхайзер 300 и 500,mp3 звонок чистый без сипов.Экран  не горилла глас , но на солнце сохраняет читаемость, в отличие от большинства  сенсорников , битых пикселей и засветов нет.Самсунговские кверти менее удобные ,пользовалась((( буква \"б\" и \" ь\"  просто убивают(((Нокиевская кверти интуитивно понятна и более дружелюбна к пользователю.Подстройка телефона под себя те вынос на экран нужных приложений, перемена значений у кнопок существенно облегчает жизнь.\\n'"
      ]
     },
     "execution_count": 7,
     "metadata": {},
     "output_type": "execute_result"
    }
   ],
   "source": [
    "test_raw[1] # пример сырого отзыва из тестовой выборки"
   ]
  },
  {
   "cell_type": "code",
   "execution_count": 8,
   "metadata": {},
   "outputs": [
    {
     "data": {
      "text/plain": [
       "'ценанадежность неубиваемостьдолго держать батарея день стабильно телефон плеер постоянно долбиться ухо звонить пара часо день игра смс месяц около шт набираться максимальный время работа день щадить режим simqwerty рулить набор смс обычный сенсорник кнопочный просто издивательствогромкий чистый звук варьироваться значение hot кнопка верхний панель основной раскладка цифра буква задаваться себямный цветной панелька пластиковый защитный экран переставляться легко родной экран телефон поцарапаться кнопка стираютсякак странный достойный фото спорить мегапиксел отснимать рассписание конспект зафотать пейзаж окно автобус получаться вполне пристойносохранение файл отснимать фото перебрасывать песня происходить карта память это оч удобный карточка кушать гб удобный ашевский бонус смс чат аббанент т е мочь видеть весь ветка беседа конкретный человек искать куча входить смс нужный информация работать чисто галюнов падать шврясться купаться использоваться тело плеер метро поезд слышно ухо юзай сенхайзер mp3 звонок чистый сип экран горилла глас солнце сохранять читаемость отличие большинство сенсорник битый пиксел засвет самсунговский кверть менее удобный пользоваться буква б ь просто убивать нокиевский кверть интуитивно понятный дружелюбный пользователь подстройка телефон вынос экран нужный приложение перемена значение кнопка существенно облегчать жизнь'"
      ]
     },
     "execution_count": 8,
     "metadata": {},
     "output_type": "execute_result"
    }
   ],
   "source": [
    "test[1] # пример отзыва из тестовой выборки после обработки"
   ]
  },
  {
   "cell_type": "markdown",
   "metadata": {},
   "source": [
    "### Парсинг:\n",
    "В качестве обучающей выборки были собраны отзывы на смартфоны с сайта Отзовик (http://otzovik.com/technology/communication/cellular_phones/)\n",
    "\n",
    "Мы распарсили:\n",
    "- 2313 отзывов-комментариев (label = 1 если в графе \"рекомендую друзьям\" указано \"ДА\", если \"НЕТ\", то label = 0) - см. parse_otzovic_reviews.py, результат в responses_texts.txt\n",
    "- 4429 отзывов с пометкой достоинства (label = 1) / недостатки (label = 0) - см. parse_otzovic_reviews_short.py, результат в responses_texts_short.txt\n",
    "\n",
    "Ссылки на страницы с отзывами получили с помощью parse_otzovic.py (результат в responses.txt)\n",
    "\n",
    "Для парсинга использовали библиотеки request и bs4. \n",
    "\n",
    "Чтобы нас не забанили, также использовали библиотеку fake_useragent (для имитации запроса от браузера, а не робота) и список бесплатных прокси (proxies.csv, нужно обновлять) с сайта https://free-proxy-list.net/"
   ]
  },
  {
   "cell_type": "markdown",
   "metadata": {},
   "source": [
    "#### Отзывы с сайта отзовик (комментарии)"
   ]
  },
  {
   "cell_type": "code",
   "execution_count": 10,
   "metadata": {},
   "outputs": [],
   "source": [
    "labels=[]\n",
    "train_raw=[]\n",
    "with codecs.open(\"responses_texts.txt\", \"r\", \"utf_8_sig\") as f:\n",
    "    for line in f.readlines():\n",
    "        labels.append(int(line[0]))\n",
    "        train_raw.append(line[2:-1])"
   ]
  },
  {
   "cell_type": "code",
   "execution_count": 11,
   "metadata": {},
   "outputs": [
    {
     "name": "stdout",
     "output_type": "stream",
     "text": [
      "Wall time: 44min 26s\n"
     ]
    }
   ],
   "source": [
    "%%time\n",
    "train = text_filter(train_raw) # фильтруем данные"
   ]
  },
  {
   "cell_type": "code",
   "execution_count": 11,
   "metadata": {},
   "outputs": [
    {
     "data": {
      "text/plain": [
       "'Так случилось, что мобильные телефоны у меня долго не живут, через полтора - два года начинают ломаться. Приходится искать замену. Требования к моделям у меня минимальные: экран побольше, чтобы удобно было читать книги, хорошая камера, чтобы делать фотографии, удобное меню и цена в районе 10000. Предпоследним смартфоном был Meizu, у которого очень быстро перестала работать единственная кнопка, сканер отпечатка пальцев, что несло большие неудобства. Мне было легче искать новый, чем сдать смартфон в ремонт на месяц.И я нашла VIVO 81 в интернете в салоне МТС. Эта модель есть в красном и черном цвете, в салоне был только черный.Сразу скажу, это оказался замечательный телефон.Тонкий, удобно лежит в руке. Большой яркий экран, разрешение экрана: 1520 x 720, ,диагональ 6,2.Картинки на экране меняются при каждом включении телефона, это занятно и интересно, добавляются новые.Емкость аккумулятора: 3260 mAh, мне хватает на 3 дняУдобное меню, для меня самое удобное из всех моделей, которые у меня были.Сканера отпечатков пальцев в нем нет. Я очень этому рада, но есть распознавание по лицу, 4-6 значный пароль, или графический ключ.Основная камера 13 Мп, снимки получаются неплохого качества.Объем оперативной памяти: 3 Гб, он двух симочный, и есть еще место для microSD, что тоже радует.Недостатков пока не нашла.'"
      ]
     },
     "execution_count": 11,
     "metadata": {},
     "output_type": "execute_result"
    }
   ],
   "source": [
    "train_raw[2] # пример сырого отзыва из обучающей выборки"
   ]
  },
  {
   "cell_type": "code",
   "execution_count": 12,
   "metadata": {},
   "outputs": [
    {
     "data": {
      "text/plain": [
       "'случаться мобильный телефон долго жить полтора год начинать ломаться приходиться искать замена требование модель минимальный экран удобно читать книга хороший камера делать фотография удобный меню цена район предпоследний смартфон meizu который очень быстро переставать работать единственный кнопка сканер отпечаток палец нести большой неудобство легко искать новый сдавать смартфон ремонт месяц находить vivo интернет салон мтс модель красный черный цвет салон черный сразу сказать это оказываться замечательный телефон тонкий удобно лежать рука большой яркий экран разрешение экран x диагональ картинка экран меняться каждый включение телефон это занятный интересно добавляться новый емкость аккумулятор mah хватать дняудобный меню самый удобный весь модель который сканер отпечаток палец очень это рад распознавание лицо значный пароль графический ключ основной камера мп снимок получаться неплохой качество объем оперативный память гб симочный место microsd радовать недостаток пока находить'"
      ]
     },
     "execution_count": 12,
     "metadata": {},
     "output_type": "execute_result"
    }
   ],
   "source": [
    "train[2] # пример отзыва из обучающей выборки после обработки"
   ]
  },
  {
   "cell_type": "markdown",
   "metadata": {},
   "source": [
    "#### Отзывы с сайта отзовик (плюсы/минусы). Очень короткие комментарии мы удалим, т.к. они не особо информативны, и не похожи на тестовую выборку"
   ]
  },
  {
   "cell_type": "code",
   "execution_count": 12,
   "metadata": {},
   "outputs": [],
   "source": [
    "labels_short=[]\n",
    "train_short_raw=[]\n",
    "with codecs.open(\"responses_texts_short.txt\", \"r\", \"utf_8_sig\") as f:\n",
    "    for line in f.readlines():\n",
    "        if (len(line[2:-1].split()) > 7): # выбрасываем которкие комментарии\n",
    "            text = line[2:-1]\n",
    "            label = int(line[0])\n",
    "            labels_short.append(label)\n",
    "            train_short_raw.append(text)"
   ]
  },
  {
   "cell_type": "code",
   "execution_count": 13,
   "metadata": {},
   "outputs": [
    {
     "name": "stdout",
     "output_type": "stream",
     "text": [
      "Wall time: 21min 34s\n"
     ]
    }
   ],
   "source": [
    "%%time\n",
    "train_short = text_filter(train_short_raw) # фильтруем данные"
   ]
  },
  {
   "cell_type": "code",
   "execution_count": 15,
   "metadata": {},
   "outputs": [
    {
     "data": {
      "text/plain": [
       "'Красочный AMOLED-экран, 16 мегапиксельная камера, хороший телефон в соотношении цена/качество'"
      ]
     },
     "execution_count": 15,
     "metadata": {},
     "output_type": "execute_result"
    }
   ],
   "source": [
    "train_short_raw[0]"
   ]
  },
  {
   "cell_type": "code",
   "execution_count": 16,
   "metadata": {},
   "outputs": [
    {
     "data": {
      "text/plain": [
       "'красочный amoled экран мегапиксельный камера хороший телефон соотношение цена качество'"
      ]
     },
     "execution_count": 16,
     "metadata": {},
     "output_type": "execute_result"
    }
   ],
   "source": [
    "train_short[0]"
   ]
  },
  {
   "cell_type": "code",
   "execution_count": 14,
   "metadata": {},
   "outputs": [],
   "source": [
    "train = train + train_short\n",
    "labels = labels + labels_short"
   ]
  },
  {
   "cell_type": "code",
   "execution_count": 15,
   "metadata": {},
   "outputs": [],
   "source": [
    "# перемешаем данные\n",
    "combined = list(zip(train, labels))\n",
    "random.shuffle(combined)\n",
    "\n",
    "train[:], labels[:] = zip(*combined)"
   ]
  },
  {
   "cell_type": "code",
   "execution_count": 16,
   "metadata": {},
   "outputs": [],
   "source": [
    "# Pipeline модели\n",
    "def text_classifier(vectorizer, classifier):\n",
    "    return Pipeline(\n",
    "            [(\"vectorizer\", vectorizer),\n",
    "            (\"classifier\", classifier)]\n",
    "        )"
   ]
  },
  {
   "cell_type": "code",
   "execution_count": 24,
   "metadata": {},
   "outputs": [
    {
     "name": "stdout",
     "output_type": "stream",
     "text": [
      "algorithm: LogisticRegression, vectorizer: CountVectorizer, ngram_range: (1, 1), cv mean score: 0.8646671680215812\n",
      "algorithm: LogisticRegression, vectorizer: CountVectorizer, ngram_range: (1, 2), cv mean score: 0.876653770933302\n",
      "algorithm: LogisticRegression, vectorizer: CountVectorizer, ngram_range: (1, 3), cv mean score: 0.8769414719072817\n",
      "algorithm: LinearSVC, vectorizer: CountVectorizer, ngram_range: (1, 1), cv mean score: 0.8333822807473776\n",
      "algorithm: LinearSVC, vectorizer: CountVectorizer, ngram_range: (1, 2), cv mean score: 0.8567788290481613\n",
      "algorithm: LinearSVC, vectorizer: CountVectorizer, ngram_range: (1, 3), cv mean score: 0.8582391086707089\n",
      "algorithm: SGDClassifier, vectorizer: CountVectorizer, ngram_range: (1, 1), cv mean score: 0.8447721313164891\n",
      "algorithm: SGDClassifier, vectorizer: CountVectorizer, ngram_range: (1, 2), cv mean score: 0.8535470678955924\n",
      "algorithm: SGDClassifier, vectorizer: CountVectorizer, ngram_range: (1, 3), cv mean score: 0.8570631126590491\n",
      "algorithm: LogisticRegression, vectorizer: TfidfVectorizer, ngram_range: (1, 1), cv mean score: 0.8643683624924776\n",
      "algorithm: LogisticRegression, vectorizer: TfidfVectorizer, ngram_range: (1, 2), cv mean score: 0.7936306870456004\n",
      "algorithm: LogisticRegression, vectorizer: TfidfVectorizer, ngram_range: (1, 3), cv mean score: 0.7570881960291466\n",
      "algorithm: LinearSVC, vectorizer: TfidfVectorizer, ngram_range: (1, 1), cv mean score: 0.8757770098085447\n",
      "algorithm: LinearSVC, vectorizer: TfidfVectorizer, ngram_range: (1, 2), cv mean score: 0.8658324900858659\n",
      "algorithm: LinearSVC, vectorizer: TfidfVectorizer, ngram_range: (1, 3), cv mean score: 0.8368897833530544\n",
      "algorithm: SGDClassifier, vectorizer: TfidfVectorizer, ngram_range: (1, 1), cv mean score: 0.8722639605500806\n",
      "algorithm: SGDClassifier, vectorizer: TfidfVectorizer, ngram_range: (1, 2), cv mean score: 0.8766439457019253\n",
      "algorithm: SGDClassifier, vectorizer: TfidfVectorizer, ngram_range: (1, 3), cv mean score: 0.8506235118955547\n",
      "Wall time: 2min 36s\n"
     ]
    }
   ],
   "source": [
    "%%time\n",
    "\n",
    "# Посмотри различные алгоритмы и векторайзеры\n",
    "for vect in [CountVectorizer, TfidfVectorizer]:\n",
    "    for alg in [LogisticRegression(), LinearSVC(), SGDClassifier(shuffle=True, random_state=0)]:\n",
    "        for ngram_range in [(1,1),(1,2),(1,3)]:            \n",
    "            cvs = cross_val_score(text_classifier(vect(ngram_range=ngram_range), alg), train, labels, cv=5).mean()\n",
    "            print(f'algorithm: {type(alg).__name__}, vectorizer: {type(vect(ngram_range=ngram_range)).__name__}, ngram_range: {ngram_range}, cv mean score: {cvs.mean()}')"
   ]
  },
  {
   "cell_type": "markdown",
   "metadata": {},
   "source": [
    "попробуем комбинацию algorithm: LinbearSVC, vectorizer: TfidfVectorizer, ngram_range: (1, 1)"
   ]
  },
  {
   "cell_type": "markdown",
   "metadata": {},
   "source": [
    "### algorithm: LinbearSVC, vectorizer: TfidfVectorizer, ngram_range: (1, 1)"
   ]
  },
  {
   "cell_type": "code",
   "execution_count": 26,
   "metadata": {},
   "outputs": [
    {
     "name": "stdout",
     "output_type": "stream",
     "text": [
      "algorithm: LogisticRegression, vectorizer: TfidfVectorizer, ngram_range: (1, 1), cv mean score: 0.8757770098085447\n"
     ]
    }
   ],
   "source": [
    "vect = TfidfVectorizer\n",
    "clf = LinearSVC()     \n",
    "cvs = cross_val_score(text_classifier(vect(ngram_range=(1,1)), clf), train, labels, cv=5).mean()\n",
    "print(f'algorithm: {type(alg).__name__}, vectorizer: {type(vect(ngram_range=(1,1))).__name__}, ngram_range: {(1,1)}, cv mean score: {cvs.mean()}')"
   ]
  },
  {
   "cell_type": "code",
   "execution_count": 27,
   "metadata": {
    "scrolled": true
   },
   "outputs": [
    {
     "name": "stdout",
     "output_type": "stream",
     "text": [
      "C 0.05 : 0.8343\n",
      "C 0.1 : 0.8650\n",
      "C 0.15 : 0.8734\n",
      "C 0.2 : 0.8796\n",
      "C 0.25 : 0.8796\n",
      "C 0.3 : 0.8793\n",
      "C 0.35 : 0.8799\n",
      "C 0.4 : 0.8807\n",
      "C 0.45 : 0.8790\n",
      "C 0.5 : 0.8784\n",
      "C 0.55 : 0.8793\n",
      "C 0.6 : 0.8787\n",
      "C 0.65 : 0.8790\n",
      "C 0.7 : 0.8781\n",
      "C 0.75 : 0.8775\n",
      "C 0.8 : 0.8767\n",
      "C 0.85 : 0.8764\n",
      "C 0.9 : 0.8752\n",
      "C 0.95 : 0.8755\n"
     ]
    }
   ],
   "source": [
    "# подберем параметр С классификатора, параметры векторайзера оставим по умолчанию\n",
    "for C in np.arange(1,20)/20: # 0.35 - is the best\n",
    "    clf = LinearSVC(C=C, random_state=0)\n",
    "    vect = TfidfVectorizer(ngram_range=(1,1))\n",
    "    cvs = cross_val_score(text_classifier(vect, clf), train, labels, cv=5).mean()\n",
    "    print(f'C {C} : {cvs:.4f}')"
   ]
  },
  {
   "cell_type": "code",
   "execution_count": 17,
   "metadata": {
    "scrolled": true
   },
   "outputs": [
    {
     "name": "stdout",
     "output_type": "stream",
     "text": [
      "0 : ужасно слабый аккумулятор это основной минус аппарат разряжаться буквально пара час включать wifi макс подсветка например играть смотреть видео следовательно использовать постоянный возможность подзарядиться качество звук динамик далеко высота наблюдаться незначительный тормоз некоторый приложение вообще меню очень мало встроенный память приложение устанавливаться именно туда связанный неудобство нужно постоянно переносить карта память несколько неудобно нету отдельный кнопка фото подумывать купить батарея больший емкость мб изменяться \n",
      "\n",
      "1 : ценанадежность неубиваемостьдолго держать батарея день стабильно телефон плеер постоянно долбиться ухо звонить пара часо день игра смс месяц около шт набираться максимальный время работа день щадить режим simqwerty рулить набор смс обычный сенсорник кнопочный просто издивательствогромкий чистый звук варьироваться значение hot кнопка верхний панель основной раскладка цифра буква задаваться себямный цветной панелька пластиковый защитный экран переставляться легко родной экран телефон поцарапаться кнопка стираютсякак странный достойный фото спорить мегапиксел отснимать рассписание конспект зафотать пейзаж окно автобус получаться вполне пристойносохранение файл отснимать фото перебрасывать песня происходить карта память это оч удобный карточка кушать гб удобный ашевский бонус смс чат аббанент т е мочь видеть весь ветка беседа конкретный человек искать куча входить смс нужный информация работать чисто галюнов падать шврясться купаться использоваться тело плеер метро поезд слышно ухо юзай сенхайзер mp3 звонок чистый сип экран горилла глас солнце сохранять читаемость отличие большинство сенсорник битый пиксел засвет самсунговский кверть менее удобный пользоваться буква б ь просто убивать нокиевский кверть интуитивно понятный дружелюбный пользователь подстройка телефон вынос экран нужный приложение перемена значение кнопка существенно облегчать жизнь \n",
      "\n",
      "0 : подробно комментарий сожаление факт поломка месяц использование сильно подпортить впечатление телефон попытаться устанавливать языковой обновление итог экран смерть отдавать ремонт сказать полететь материнский плата суть месяц лежать сц печальный опыт htc купить \n",
      "\n",
      "0 : любительница громкий музыка тихо телефон приложение мало память маленький толком скачать мочь вечно приходиться удалять бывало сенсор заедать особый причина телефон месяц телефон намного брать пожалеть \n",
      "\n",
      "1 : дата выпуск г емкость mah технология экран tft тип экран тыс цветок размер экран x px диагональ экран fm радио mp3 плеер поддержка карта память e mail клиент html браузер edge gprs bluetooth встроенный камера количество пиксел mpx поддержка видео удобный клавиатура русский раскладка сей карта удобство работа экран яркий цвет удобный настройка шрифт батарея ма ч фантастика сутки предел качество связь эхо максимальный громкость разговор убавлять деление метро слышно эхо наблюдаться качество отделка передний панель цена симкарта известный бренд глюк приятный дизайн интерфейс приятный набор виджет рабочий стол моментальный поиск пом контакт гибкий настройка быстрый клавиша довольный свой телефончик покупка сразу обновлять последний версия телефон нужно ничто лишний аппарат стоить свой деньги рекомендовать \n",
      "\n"
     ]
    }
   ],
   "source": [
    "# Обучим модель с лучшими параметрами\n",
    "\n",
    "vectorizer = TfidfVectorizer(ngram_range=(1,1))\n",
    "classifier = LinearSVC(C=0.35, random_state=0)\n",
    "ppl = text_classifier(vectorizer, classifier)\n",
    "\n",
    "ppl.fit(train,labels)\n",
    "y = ppl.predict(test)\n",
    "\n",
    "# посмотрим на несколько прогнозов\n",
    "for i in range(5):\n",
    "    print(y[i],':', test[i],'\\n')"
   ]
  },
  {
   "cell_type": "code",
   "execution_count": 18,
   "metadata": {},
   "outputs": [
    {
     "data": {
      "text/html": [
       "<div>\n",
       "<style scoped>\n",
       "    .dataframe tbody tr th:only-of-type {\n",
       "        vertical-align: middle;\n",
       "    }\n",
       "\n",
       "    .dataframe tbody tr th {\n",
       "        vertical-align: top;\n",
       "    }\n",
       "\n",
       "    .dataframe thead th {\n",
       "        text-align: right;\n",
       "    }\n",
       "</style>\n",
       "<table border=\"1\" class=\"dataframe\">\n",
       "  <thead>\n",
       "    <tr style=\"text-align: right;\">\n",
       "      <th></th>\n",
       "      <th>y</th>\n",
       "    </tr>\n",
       "    <tr>\n",
       "      <th>Id</th>\n",
       "      <th></th>\n",
       "    </tr>\n",
       "  </thead>\n",
       "  <tbody>\n",
       "    <tr>\n",
       "      <th>0</th>\n",
       "      <td>neg</td>\n",
       "    </tr>\n",
       "    <tr>\n",
       "      <th>1</th>\n",
       "      <td>pos</td>\n",
       "    </tr>\n",
       "    <tr>\n",
       "      <th>2</th>\n",
       "      <td>neg</td>\n",
       "    </tr>\n",
       "    <tr>\n",
       "      <th>3</th>\n",
       "      <td>neg</td>\n",
       "    </tr>\n",
       "    <tr>\n",
       "      <th>4</th>\n",
       "      <td>pos</td>\n",
       "    </tr>\n",
       "  </tbody>\n",
       "</table>\n",
       "</div>"
      ],
      "text/plain": [
       "      y\n",
       "Id     \n",
       "0   neg\n",
       "1   pos\n",
       "2   neg\n",
       "3   neg\n",
       "4   pos"
      ]
     },
     "execution_count": 18,
     "metadata": {},
     "output_type": "execute_result"
    }
   ],
   "source": [
    "answer = pd.DataFrame(data=ppl.predict(test),columns=['y'])\n",
    "answer.index = np.arange(len(test))\n",
    "answer.index.name = 'Id'\n",
    "answer['y']=answer['y'].apply(lambda x: {1: \"pos\", 0: \"neg\"}.get(x,x))\n",
    "# answer.to_csv('answer1.csv')\n",
    "answer.head()"
   ]
  },
  {
   "attachments": {
    "image.png": {
     "image/png": "[encoded data removed]"
    }
   },
   "cell_type": "markdown",
   "metadata": {},
   "source": [
    "kaggle submission score : 0.9000\n",
    "![image.png](attachment:image.png)"
   ]
  },
  {
   "cell_type": "code",
   "execution_count": 19,
   "metadata": {},
   "outputs": [
    {
     "data": {
      "text/plain": [
       "['ppl.pkl']"
      ]
     },
     "execution_count": 19,
     "metadata": {},
     "output_type": "execute_result"
    }
   ],
   "source": [
    "from sklearn.externals import joblib\n",
    "# now let's save it to a file\n",
    "joblib.dump(ppl, 'ppl.pkl') "
   ]
  },
  {
   "cell_type": "code",
   "execution_count": 23,
   "metadata": {},
   "outputs": [
    {
     "data": {
      "text/plain": [
       "array([0])"
      ]
     },
     "execution_count": 23,
     "metadata": {},
     "output_type": "execute_result"
    }
   ],
   "source": [
    "ppl.predict(text_filter([\"люди всем кто хочет купить покупайте. советую. это бомба.\"]))"
   ]
  },
  {
   "cell_type": "code",
   "execution_count": 22,
   "metadata": {},
   "outputs": [
    {
     "data": {
      "text/plain": [
       "['человек хотеть купить покупать советовать это бомба']"
      ]
     },
     "execution_count": 22,
     "metadata": {},
     "output_type": "execute_result"
    }
   ],
   "source": [
    "text_filter([\"люди всем кто хочет купить покупайте. советую. это бомба.\"])"
   ]
  },
  {
   "cell_type": "code",
   "execution_count": null,
   "metadata": {},
   "outputs": [],
   "source": []
  }
 ],
 "metadata": {
  "kernelspec": {
   "display_name": "Python 3",
   "language": "python",
   "name": "python3"
  },
  "language_info": {
   "codemirror_mode": {
    "name": "ipython",
    "version": 3
   },
   "file_extension": ".py",
   "mimetype": "text/x-python",
   "name": "python",
   "nbconvert_exporter": "python",
   "pygments_lexer": "ipython3",
   "version": "3.6.5"
  }
 },
 "nbformat": 4,
 "nbformat_minor": 2
}
